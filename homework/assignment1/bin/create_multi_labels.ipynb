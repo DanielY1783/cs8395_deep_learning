{
 "cells": [
  {
   "cell_type": "code",
   "execution_count": 7,
   "metadata": {},
   "outputs": [],
   "source": [
    "## Quick script to split up the labels into training and validation and sort by name.\n",
    "\n",
    "# Imports\n",
    "import pandas as pd\n",
    "import matplotlib.pyplot as plt"
   ]
  },
  {
   "cell_type": "code",
   "execution_count": 8,
   "metadata": {},
   "outputs": [],
   "source": [
    "# Constants\n",
    "VALIDATION_NAMES = [\"111.jpg\", \"112.jpg\", \"113.jpg\", \"114.jpg\", \"115.jpg\",\n",
    "                    \"116.jpg\", \"117.jpg\", \"118.jpg\", \"119.jpg\", \"125.jpg\"]"
   ]
  },
  {
   "cell_type": "code",
   "execution_count": 9,
   "metadata": {
    "scrolled": true
   },
   "outputs": [
    {
     "name": "stdout",
     "output_type": "stream",
     "text": [
      "    file_name      x0        x1        x2        x3        x4        x5  \\\n",
      "0      51.jpg  0.1888  0.194063  0.199326  0.204589  0.209853  0.215116   \n",
      "1      95.jpg  0.2051  0.210363  0.215626  0.220889  0.226153  0.231416   \n",
      "2      84.jpg  0.6622  0.667463  0.672726  0.677989  0.683253  0.688516   \n",
      "3     118.jpg  0.4786  0.483863  0.489126  0.494389  0.499653  0.504916   \n",
      "4     115.jpg  0.7214  0.726663  0.731926  0.737189  0.742453  0.747716   \n",
      "..        ...     ...       ...       ...       ...       ...       ...   \n",
      "110   107.jpg  0.1827  0.187963  0.193226  0.198489  0.203753  0.209016   \n",
      "111     1.jpg  0.8214  0.826663  0.831926  0.837189  0.842453  0.847716   \n",
      "112    27.jpg  0.5745  0.579763  0.585026  0.590289  0.595553  0.600816   \n",
      "113    13.jpg  0.3296  0.334863  0.340126  0.345389  0.350653  0.355916   \n",
      "114    96.jpg  0.4214  0.426663  0.431926  0.437189  0.442453  0.447716   \n",
      "\n",
      "           x6        x7        x8  ...       y10       y11       y12  \\\n",
      "0    0.220379  0.225642  0.230905  ...  0.603832  0.609095  0.614358   \n",
      "1    0.236679  0.241942  0.247205  ...  0.315532  0.320795  0.326058   \n",
      "2    0.693779  0.699042  0.704305  ...  0.714332  0.719595  0.724858   \n",
      "3    0.510179  0.515442  0.520705  ...  0.490332  0.495595  0.500858   \n",
      "4    0.752979  0.758242  0.763505  ...  0.327832  0.333095  0.338358   \n",
      "..        ...       ...       ...  ...       ...       ...       ...   \n",
      "110  0.214279  0.219542  0.224805  ...  0.475032  0.480295  0.485558   \n",
      "111  0.852979  0.858242  0.863505  ...  0.174432  0.179695  0.184958   \n",
      "112  0.606079  0.611342  0.616605  ...  0.309332  0.314595  0.319858   \n",
      "113  0.361179  0.366442  0.371705  ...  0.278732  0.283995  0.289258   \n",
      "114  0.452979  0.458242  0.463505  ...  0.846232  0.851495  0.856758   \n",
      "\n",
      "          y13       y14       y15       y16       y17       y18     y19  \n",
      "0    0.619621  0.624884  0.630147  0.635411  0.640674  0.645937  0.6512  \n",
      "1    0.331321  0.336584  0.341847  0.347111  0.352374  0.357637  0.3629  \n",
      "2    0.730121  0.735384  0.740647  0.745911  0.751174  0.756437  0.7617  \n",
      "3    0.506121  0.511384  0.516647  0.521911  0.527174  0.532437  0.5377  \n",
      "4    0.343621  0.348884  0.354147  0.359411  0.364674  0.369937  0.3752  \n",
      "..        ...       ...       ...       ...       ...       ...     ...  \n",
      "110  0.490821  0.496084  0.501347  0.506611  0.511874  0.517137  0.5224  \n",
      "111  0.190221  0.195484  0.200747  0.206011  0.211274  0.216537  0.2218  \n",
      "112  0.325121  0.330384  0.335647  0.340911  0.346174  0.351437  0.3567  \n",
      "113  0.294521  0.299784  0.305047  0.310311  0.315574  0.320837  0.3261  \n",
      "114  0.862021  0.867284  0.872547  0.877811  0.883074  0.888337  0.8936  \n",
      "\n",
      "[115 rows x 41 columns]\n"
     ]
    }
   ],
   "source": [
    "# Load in labels file and rename column names\n",
    "labels_df = pd.read_csv(\"../data/labels/labels.txt\", sep=\" \", header=None)\n",
    "labels_df.columns = [\"file_name\", \"x\", \"y\"]\n",
    "# Create 20 new x and y labels to specify multiple coordinates for the phone.\n",
    "for i in range(20):\n",
    "    labels_df[\"x\" + str(i)] = labels_df[\"x\"] - 0.05 + i * 0.1/19\n",
    "for i in range(20):\n",
    "    labels_df[\"y\" + str(i)] = labels_df[\"y\"] - 0.05 + i * 0.1/19\n",
    "# Drop original labels\n",
    "labels_df = labels_df.drop(columns=[\"x\", \"y\"])\n",
    "print(labels_df)\n",
    "# Get the rows corresponding to training and validation sets.\n",
    "val_labels_df = labels_df[labels_df[\"file_name\"].isin(VALIDATION_NAMES)]\n",
    "train_labels_df = labels_df[~labels_df[\"file_name\"].isin(VALIDATION_NAMES)]\n",
    "# Store the label names separately\n",
    "val_labels_df.to_csv(\"../data/labels/multi_validation_labels.txt\", sep=\" \", index=False, header=False)\n",
    "train_labels_df.to_csv(\"../data/labels/multi_train_labels.txt\", sep=\" \", index=False, header=False)"
   ]
  },
  {
   "cell_type": "code",
   "execution_count": null,
   "metadata": {},
   "outputs": [],
   "source": []
  },
  {
   "cell_type": "code",
   "execution_count": null,
   "metadata": {},
   "outputs": [],
   "source": []
  }
 ],
 "metadata": {
  "kernelspec": {
   "display_name": "Python 3",
   "language": "python",
   "name": "python3"
  },
  "language_info": {
   "codemirror_mode": {
    "name": "ipython",
    "version": 3
   },
   "file_extension": ".py",
   "mimetype": "text/x-python",
   "name": "python",
   "nbconvert_exporter": "python",
   "pygments_lexer": "ipython3",
   "version": "3.6.7"
  }
 },
 "nbformat": 4,
 "nbformat_minor": 2
}
