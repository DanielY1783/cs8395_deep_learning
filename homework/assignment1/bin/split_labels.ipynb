{
 "cells": [
  {
   "cell_type": "code",
   "execution_count": 1,
   "metadata": {},
   "outputs": [],
   "source": [
    "## Quick script to split up the labels into training and validation and sort by name.\n",
    "\n",
    "# Imports\n",
    "import pandas as pd\n",
    "import matplotlib.pyplot as plt"
   ]
  },
  {
   "cell_type": "code",
   "execution_count": 2,
   "metadata": {},
   "outputs": [],
   "source": [
    "# Constants\n",
    "VALIDATION_NAMES = [\"111.jpg\", \"112.jpg\", \"113.jpg\", \"114.jpg\", \"115.jpg\",\n",
    "                    \"116.jpg\", \"117.jpg\", \"118.jpg\", \"119.jpg\", \"125.jpg\"]"
   ]
  },
  {
   "cell_type": "code",
   "execution_count": 3,
   "metadata": {
    "scrolled": true
   },
   "outputs": [],
   "source": [
    "# Load in labels file and rename column names\n",
    "labels_df = pd.read_csv(\"../data/labels/labels.txt\", sep=\" \", header=None)\n",
    "labels_df.columns = [\"file_name\", \"x\", \"y\"]\n",
    "# # Sort by name of file\n",
    "# labels_df = labels_df.sort_values(by=['file_name'])\n",
    "# print(labels_df)\n",
    "# Get the rows corresponding to training and validation sets.\n",
    "val_labels_df = labels_df[labels_df[\"file_name\"].isin(VALIDATION_NAMES)]\n",
    "train_labels_df = labels_df[~labels_df[\"file_name\"].isin(VALIDATION_NAMES)]\n",
    "# Store the label names separately\n",
    "val_labels_df.to_csv(\"../data/labels/validation_labels.txt\", sep=\" \", index=False, header=False)\n",
    "train_labels_df.to_csv(\"../data/labels/train_labels.txt\", sep=\" \", index=False, header=False)"
   ]
  },
  {
   "cell_type": "code",
   "execution_count": null,
   "metadata": {},
   "outputs": [],
   "source": []
  },
  {
   "cell_type": "code",
   "execution_count": null,
   "metadata": {},
   "outputs": [],
   "source": []
  }
 ],
 "metadata": {
  "kernelspec": {
   "display_name": "Python 3",
   "language": "python",
   "name": "python3"
  },
  "language_info": {
   "codemirror_mode": {
    "name": "ipython",
    "version": 3
   },
   "file_extension": ".py",
   "mimetype": "text/x-python",
   "name": "python",
   "nbconvert_exporter": "python",
   "pygments_lexer": "ipython3",
   "version": "3.7.3"
  }
 },
 "nbformat": 4,
 "nbformat_minor": 2
}
