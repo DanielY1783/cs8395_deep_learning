{
 "cells": [
  {
   "cell_type": "code",
   "execution_count": 1,
   "metadata": {},
   "outputs": [],
   "source": [
    "## Quick script to split up the labels into training and validation and sort by name.\n",
    "\n",
    "# Imports\n",
    "import pandas as pd\n",
    "import matplotlib.pyplot as plt"
   ]
  },
  {
   "cell_type": "code",
   "execution_count": 2,
   "metadata": {},
   "outputs": [],
   "source": [
    "# Constants\n",
    "VALIDATION_NAMES = [\"111.jpg\", \"112.jpg\", \"113.jpg\", \"114.jpg\", \"115.jpg\",\n",
    "                    \"116.jpg\", \"117.jpg\", \"118.jpg\", \"119.jpg\", \"125.jpg\"]"
   ]
  },
  {
   "cell_type": "code",
   "execution_count": 3,
   "metadata": {
    "scrolled": true
   },
   "outputs": [],
   "source": [
    "# Load in labels file and rename column names\n",
    "labels_df = pd.read_csv(\"../data/labels/labels.txt\", sep=\" \", header=None)\n",
    "labels_df.columns = [\"file_name\", \"x\", \"y\"]\n",
    "# Create four new x, y values to get a box for the target\n",
    "labels_df[\"x_min\"] = labels_df[\"x\"] - 0.05\n",
    "labels_df[\"x_max\"] = labels_df[\"x\"] + 0.05\n",
    "labels_df[\"y_min\"] = labels_df[\"y\"] - 0.05\n",
    "labels_df[\"y_max\"] = labels_df[\"y\"] + 0.05\n",
    "# Drop original labels\n",
    "labels_df = labels_df.drop(columns=[\"x\", \"y\"])\n",
    "# Get the rows corresponding to training and validation sets.\n",
    "val_labels_df = labels_df[labels_df[\"file_name\"].isin(VALIDATION_NAMES)]\n",
    "train_labels_df = labels_df[~labels_df[\"file_name\"].isin(VALIDATION_NAMES)]\n",
    "# Store the label names separately\n",
    "val_labels_df.to_csv(\"../data/labels/box_validation_labels.txt\", sep=\" \", index=False, header=False)\n",
    "train_labels_df.to_csv(\"../data/labels/box_train_labels.txt\", sep=\" \", index=False, header=False)"
   ]
  },
  {
   "cell_type": "code",
   "execution_count": null,
   "metadata": {},
   "outputs": [],
   "source": []
  },
  {
   "cell_type": "code",
   "execution_count": null,
   "metadata": {},
   "outputs": [],
   "source": []
  }
 ],
 "metadata": {
  "kernelspec": {
   "display_name": "Python 3",
   "language": "python",
   "name": "python3"
  },
  "language_info": {
   "codemirror_mode": {
    "name": "ipython",
    "version": 3
   },
   "file_extension": ".py",
   "mimetype": "text/x-python",
   "name": "python",
   "nbconvert_exporter": "python",
   "pygments_lexer": "ipython3",
   "version": "3.6.7"
  }
 },
 "nbformat": 4,
 "nbformat_minor": 2
}
