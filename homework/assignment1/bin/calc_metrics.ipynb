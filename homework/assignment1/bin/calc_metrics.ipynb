{
 "cells": [
  {
   "cell_type": "code",
   "execution_count": 20,
   "metadata": {},
   "outputs": [],
   "source": [
    "# Imports\n",
    "import numpy as np\n",
    "import os\n",
    "import pandas as pd\n",
    "import matplotlib.pyplot as plt\n",
    "import torch\n",
    "from torch.utils.data import Dataset, DataLoader\n",
    "from torchvision import datasets, transforms, utils\n",
    "from skimage import io, transform"
   ]
  },
  {
   "cell_type": "code",
   "execution_count": 21,
   "metadata": {},
   "outputs": [],
   "source": [
    "# Class for the dataset\n",
    "class DetectionImages(Dataset):\n",
    "    def __init__(self, csv_file, root_dir, transform=None):\n",
    "        \"\"\"\n",
    "        Args:\n",
    "            csv_file (string): Path to the csv file with annotations.\n",
    "            root_dir (string): Directory with all the images.\n",
    "            transform (callable, optional): Optional transform to be applied\n",
    "                on a sample.\n",
    "        \"\"\"\n",
    "        self.labels_df = pd.read_csv(csv_file, sep=\" \", header=None)\n",
    "        self.root_dir = root_dir\n",
    "        self.transform = transform\n",
    "\n",
    "    def __len__(self):\n",
    "        return len(self.labels_df)\n",
    "\n",
    "    def __getitem__(self, idx):\n",
    "        if torch.is_tensor(idx):\n",
    "            idx = idx.tolist()\n",
    "\n",
    "        img_name = os.path.join(self.root_dir,\n",
    "                                self.labels_df.iloc[idx, 0])\n",
    "        image = io.imread(img_name)\n",
    "        label = self.labels_df.iloc[idx, 1:]\n",
    "        label = np.array([label])\n",
    "        label = label.astype('float').reshape(-1, 2)\n",
    "        sample = {'image': image, 'label': label}\n",
    "\n",
    "        if self.transform:\n",
    "            sample = self.transform(sample)\n",
    "\n",
    "        return sample\n",
    "    \n",
    "# Load in the training and testing datasets. Convert to pytorch tensor.\n",
    "train_data = DetectionImages(csv_file=\"../data/labels/train_labels.txt\", root_dir=\"../data/train\")\n",
    "train_loader = DataLoader(train_data, batch_size=1000, shuffle=True, num_workers=0)"
   ]
  },
  {
   "cell_type": "code",
   "execution_count": 47,
   "metadata": {},
   "outputs": [],
   "source": [
    "# Get just the images\n",
    "image_array = None\n",
    "for index, images in enumerate(train_loader):\n",
    "    image_array = images[\"image\"]\n",
    "    \n",
    "image_array = image_array.float()\n",
    "    \n",
    "# Get the red channel\n",
    "red = image_array[:, :, :, 0]\n",
    "blue = image_array[:, :, :, 1]\n",
    "green = image_array[:, :, :, 2]"
   ]
  },
  {
   "cell_type": "code",
   "execution_count": 50,
   "metadata": {},
   "outputs": [
    {
     "name": "stdout",
     "output_type": "stream",
     "text": [
      "Red Mean:  tensor(146.5899)\n",
      "Blue Mean:  tensor(142.5595)\n",
      "Green Mean:  tensor(139.0785)\n",
      "Red Std:  tensor(34.5019)\n",
      "Blue Std:  tensor(34.8481)\n",
      "Green Std:  tensor(37.1137)\n"
     ]
    }
   ],
   "source": [
    "print(\"Red Mean: \", red.mean())\n",
    "print(\"Blue Mean: \", blue.mean())\n",
    "print(\"Green Mean: \", green.mean())\n",
    "\n",
    "print(\"Red Std: \", red.std())\n",
    "print(\"Blue Std: \", blue.std())\n",
    "print(\"Green Std: \", green.std())"
   ]
  },
  {
   "cell_type": "code",
   "execution_count": null,
   "metadata": {},
   "outputs": [],
   "source": []
  }
 ],
 "metadata": {
  "kernelspec": {
   "display_name": "Python 3",
   "language": "python",
   "name": "python3"
  },
  "language_info": {
   "codemirror_mode": {
    "name": "ipython",
    "version": 3
   },
   "file_extension": ".py",
   "mimetype": "text/x-python",
   "name": "python",
   "nbconvert_exporter": "python",
   "pygments_lexer": "ipython3",
   "version": "3.6.7"
  }
 },
 "nbformat": 4,
 "nbformat_minor": 4
}
